{
 "cells": [
  {
   "cell_type": "markdown",
   "metadata": {},
   "source": [
    "# Limpeza dos dados\n",
    "Nesse notebook vamos preparar os dados que utilizaremos ao longo do desenvolvimento do projeto. Os datasets aqui utilizados são importados do portal de dados abertos da UFRN (http://dados.ufrn.br/).\n",
    "\n",
    "Para esse estudo, analisaremos apenas os dados do curso de Ciência e Tecnologia da UFRN, mais espeficamente a disciplina de Cálculo 2, onde tentaremos prever as possiveis reprovações dos alunos se baseando em seu histórico e na nota da primeira unidade na disciplina."
   ]
  },
  {
   "cell_type": "code",
   "execution_count": 3,
   "metadata": {},
   "outputs": [],
   "source": [
    "# Importing the libraries\n",
    "import numpy as np\n",
    "import matplotlib.pyplot as plt\n",
    "import pandas as pd"
   ]
  },
  {
   "cell_type": "code",
   "execution_count": 185,
   "metadata": {},
   "outputs": [],
   "source": [
    "# selecione o ano_periodo para análise\n",
    "ano_periodo = '20151'"
   ]
  },
  {
   "cell_type": "code",
   "execution_count": 186,
   "metadata": {},
   "outputs": [],
   "source": [
    "matriculas = pd.read_csv(f\"data/matricula-de-{ano_periodo}.csv\", sep=\";\")"
   ]
  },
  {
   "cell_type": "code",
   "execution_count": 187,
   "metadata": {
    "scrolled": true
   },
   "outputs": [
    {
     "data": {
      "text/plain": [
       "(876468, 11)"
      ]
     },
     "execution_count": 187,
     "metadata": {},
     "output_type": "execute_result"
    }
   ],
   "source": [
    "matriculas.shape"
   ]
  },
  {
   "cell_type": "code",
   "execution_count": 188,
   "metadata": {},
   "outputs": [
    {
     "data": {
      "text/plain": [
       "Index(['id_turma', 'discente', 'id_curso', 'unidade', 'nota', 'reposicao',\n",
       "       'faltas_unidade', 'media_final', 'numero_total_faltas', 'descricao',\n",
       "       'Unnamed: 10'],\n",
       "      dtype='object')"
      ]
     },
     "execution_count": 188,
     "metadata": {},
     "output_type": "execute_result"
    }
   ],
   "source": [
    "matriculas.columns"
   ]
  },
  {
   "cell_type": "markdown",
   "metadata": {},
   "source": [
    "## Seleção dos dados\n",
    "Vamos selecionar apenas os dados que nos interessam, assim, iniciaremos pegando apenas os dados do curso de CET e depois limitaremos as displinas que nos interessam."
   ]
  },
  {
   "cell_type": "code",
   "execution_count": 189,
   "metadata": {},
   "outputs": [],
   "source": [
    "id_cet = 10320810\n",
    "alunos_cet = matriculas[matriculas.id_curso == id_cet]"
   ]
  },
  {
   "cell_type": "code",
   "execution_count": 190,
   "metadata": {},
   "outputs": [
    {
     "data": {
      "text/plain": [
       "(94943, 11)"
      ]
     },
     "execution_count": 190,
     "metadata": {},
     "output_type": "execute_result"
    }
   ],
   "source": [
    "alunos_cet.shape"
   ]
  },
  {
   "cell_type": "markdown",
   "metadata": {},
   "source": [
    "### Pegando as turmas\n",
    "Vamos pegar as turmas dos componentes que nos interessam."
   ]
  },
  {
   "cell_type": "code",
   "execution_count": 191,
   "metadata": {},
   "outputs": [],
   "source": [
    "turmas = pd.read_csv(f\"data/turmas-{ano_periodo}.csv\", sep=\";\")"
   ]
  },
  {
   "cell_type": "code",
   "execution_count": 192,
   "metadata": {},
   "outputs": [
    {
     "data": {
      "text/plain": [
       "Index(['id_turma', 'codigo_turma', 'id_docente_interno', 'id_docente_externo',\n",
       "       'observacao', 'id_componente_curricular', 'nivel_ensino',\n",
       "       'campus_turma', 'local', 'ano', 'periodo', 'data_inicio', 'data_fim',\n",
       "       'descricao_horario', 'total_solicitacoes', 'capacidade_aluno', 'tipo',\n",
       "       'distancia', 'data_consolidacao', 'agrupadora', 'id_turma_agrupadora',\n",
       "       'qtd_aulas_lancadas', 'situacao_turma', 'convenio',\n",
       "       'modalidade_participantes', 'Unnamed: 25'],\n",
       "      dtype='object')"
      ]
     },
     "execution_count": 192,
     "metadata": {},
     "output_type": "execute_result"
    }
   ],
   "source": [
    "turmas.columns"
   ]
  },
  {
   "cell_type": "code",
   "execution_count": 193,
   "metadata": {},
   "outputs": [
    {
     "data": {
      "text/plain": [
       "2015    14662\n",
       "Name: ano, dtype: int64"
      ]
     },
     "execution_count": 193,
     "metadata": {},
     "output_type": "execute_result"
    }
   ],
   "source": [
    "turmas.ano.value_counts()"
   ]
  },
  {
   "cell_type": "code",
   "execution_count": 194,
   "metadata": {},
   "outputs": [],
   "source": [
    "#turmas['ano_periodo'] = turmas[['ano', 'periodo']].apply(lambda x: x['ano']*10 + x['periodo'], axis=1)\n",
    "turmas['ano_periodo'] = int(ano_periodo)"
   ]
  },
  {
   "cell_type": "code",
   "execution_count": 195,
   "metadata": {},
   "outputs": [
    {
     "data": {
      "text/html": [
       "<div>\n",
       "<style scoped>\n",
       "    .dataframe tbody tr th:only-of-type {\n",
       "        vertical-align: middle;\n",
       "    }\n",
       "\n",
       "    .dataframe tbody tr th {\n",
       "        vertical-align: top;\n",
       "    }\n",
       "\n",
       "    .dataframe thead th {\n",
       "        text-align: right;\n",
       "    }\n",
       "</style>\n",
       "<table border=\"1\" class=\"dataframe\">\n",
       "  <thead>\n",
       "    <tr style=\"text-align: right;\">\n",
       "      <th></th>\n",
       "      <th>id_turma</th>\n",
       "      <th>codigo_turma</th>\n",
       "      <th>id_docente_interno</th>\n",
       "      <th>id_docente_externo</th>\n",
       "      <th>observacao</th>\n",
       "      <th>id_componente_curricular</th>\n",
       "      <th>nivel_ensino</th>\n",
       "      <th>campus_turma</th>\n",
       "      <th>local</th>\n",
       "      <th>ano</th>\n",
       "      <th>...</th>\n",
       "      <th>distancia</th>\n",
       "      <th>data_consolidacao</th>\n",
       "      <th>agrupadora</th>\n",
       "      <th>id_turma_agrupadora</th>\n",
       "      <th>qtd_aulas_lancadas</th>\n",
       "      <th>situacao_turma</th>\n",
       "      <th>convenio</th>\n",
       "      <th>modalidade_participantes</th>\n",
       "      <th>Unnamed: 25</th>\n",
       "      <th>ano_periodo</th>\n",
       "    </tr>\n",
       "  </thead>\n",
       "  <tbody>\n",
       "    <tr>\n",
       "      <th>0</th>\n",
       "      <td>1217099</td>\n",
       "      <td>01</td>\n",
       "      <td>18225.0</td>\n",
       "      <td>NaN</td>\n",
       "      <td>NaN</td>\n",
       "      <td>52922</td>\n",
       "      <td>LATO SENSU</td>\n",
       "      <td>NaN</td>\n",
       "      <td>Depto. de Oceanografia e Limnologia</td>\n",
       "      <td>2015</td>\n",
       "      <td>...</td>\n",
       "      <td>f</td>\n",
       "      <td>2015-06-01 12:53:14.625</td>\n",
       "      <td>f</td>\n",
       "      <td>NaN</td>\n",
       "      <td>15.0</td>\n",
       "      <td>CONSOLIDADA</td>\n",
       "      <td>NaN</td>\n",
       "      <td>Presencial</td>\n",
       "      <td>NaN</td>\n",
       "      <td>20151</td>\n",
       "    </tr>\n",
       "    <tr>\n",
       "      <th>1</th>\n",
       "      <td>1217100</td>\n",
       "      <td>01</td>\n",
       "      <td>18695.0</td>\n",
       "      <td>NaN</td>\n",
       "      <td>NaN</td>\n",
       "      <td>52921</td>\n",
       "      <td>LATO SENSU</td>\n",
       "      <td>NaN</td>\n",
       "      <td>Depto. de Oceanografia e Limnologia</td>\n",
       "      <td>2015</td>\n",
       "      <td>...</td>\n",
       "      <td>f</td>\n",
       "      <td>2015-10-08 16:19:21.901</td>\n",
       "      <td>f</td>\n",
       "      <td>NaN</td>\n",
       "      <td>8.0</td>\n",
       "      <td>CONSOLIDADA</td>\n",
       "      <td>NaN</td>\n",
       "      <td>Presencial</td>\n",
       "      <td>NaN</td>\n",
       "      <td>20151</td>\n",
       "    </tr>\n",
       "    <tr>\n",
       "      <th>2</th>\n",
       "      <td>1217101</td>\n",
       "      <td>01</td>\n",
       "      <td>5753068.0</td>\n",
       "      <td>NaN</td>\n",
       "      <td>NaN</td>\n",
       "      <td>52925</td>\n",
       "      <td>LATO SENSU</td>\n",
       "      <td>NaN</td>\n",
       "      <td>Depto. de Oceanografia e Limnologia</td>\n",
       "      <td>2015</td>\n",
       "      <td>...</td>\n",
       "      <td>f</td>\n",
       "      <td>2015-06-01 12:50:38.962</td>\n",
       "      <td>f</td>\n",
       "      <td>NaN</td>\n",
       "      <td>30.0</td>\n",
       "      <td>CONSOLIDADA</td>\n",
       "      <td>NaN</td>\n",
       "      <td>Presencial</td>\n",
       "      <td>NaN</td>\n",
       "      <td>20151</td>\n",
       "    </tr>\n",
       "    <tr>\n",
       "      <th>3</th>\n",
       "      <td>1217102</td>\n",
       "      <td>01</td>\n",
       "      <td>NaN</td>\n",
       "      <td>109565716.0</td>\n",
       "      <td>NaN</td>\n",
       "      <td>52920</td>\n",
       "      <td>LATO SENSU</td>\n",
       "      <td>NaN</td>\n",
       "      <td>Depto. de Oceanografia e Limnologia</td>\n",
       "      <td>2015</td>\n",
       "      <td>...</td>\n",
       "      <td>f</td>\n",
       "      <td>2015-08-26 11:48:34.146</td>\n",
       "      <td>f</td>\n",
       "      <td>NaN</td>\n",
       "      <td>24.0</td>\n",
       "      <td>CONSOLIDADA</td>\n",
       "      <td>NaN</td>\n",
       "      <td>Presencial</td>\n",
       "      <td>NaN</td>\n",
       "      <td>20151</td>\n",
       "    </tr>\n",
       "    <tr>\n",
       "      <th>4</th>\n",
       "      <td>1217102</td>\n",
       "      <td>01</td>\n",
       "      <td>NaN</td>\n",
       "      <td>109565745.0</td>\n",
       "      <td>NaN</td>\n",
       "      <td>52920</td>\n",
       "      <td>LATO SENSU</td>\n",
       "      <td>NaN</td>\n",
       "      <td>Depto. de Oceanografia e Limnologia</td>\n",
       "      <td>2015</td>\n",
       "      <td>...</td>\n",
       "      <td>f</td>\n",
       "      <td>2015-08-26 11:48:34.146</td>\n",
       "      <td>f</td>\n",
       "      <td>NaN</td>\n",
       "      <td>24.0</td>\n",
       "      <td>CONSOLIDADA</td>\n",
       "      <td>NaN</td>\n",
       "      <td>Presencial</td>\n",
       "      <td>NaN</td>\n",
       "      <td>20151</td>\n",
       "    </tr>\n",
       "  </tbody>\n",
       "</table>\n",
       "<p>5 rows × 27 columns</p>\n",
       "</div>"
      ],
      "text/plain": [
       "   id_turma codigo_turma  id_docente_interno  id_docente_externo observacao  \\\n",
       "0   1217099           01             18225.0                 NaN        NaN   \n",
       "1   1217100           01             18695.0                 NaN        NaN   \n",
       "2   1217101           01           5753068.0                 NaN        NaN   \n",
       "3   1217102           01                 NaN         109565716.0        NaN   \n",
       "4   1217102           01                 NaN         109565745.0        NaN   \n",
       "\n",
       "   id_componente_curricular nivel_ensino campus_turma  \\\n",
       "0                     52922   LATO SENSU          NaN   \n",
       "1                     52921   LATO SENSU          NaN   \n",
       "2                     52925   LATO SENSU          NaN   \n",
       "3                     52920   LATO SENSU          NaN   \n",
       "4                     52920   LATO SENSU          NaN   \n",
       "\n",
       "                                 local   ano  ...  distancia  \\\n",
       "0  Depto. de Oceanografia e Limnologia  2015  ...          f   \n",
       "1  Depto. de Oceanografia e Limnologia  2015  ...          f   \n",
       "2  Depto. de Oceanografia e Limnologia  2015  ...          f   \n",
       "3  Depto. de Oceanografia e Limnologia  2015  ...          f   \n",
       "4  Depto. de Oceanografia e Limnologia  2015  ...          f   \n",
       "\n",
       "         data_consolidacao agrupadora id_turma_agrupadora  qtd_aulas_lancadas  \\\n",
       "0  2015-06-01 12:53:14.625          f                 NaN                15.0   \n",
       "1  2015-10-08 16:19:21.901          f                 NaN                 8.0   \n",
       "2  2015-06-01 12:50:38.962          f                 NaN                30.0   \n",
       "3  2015-08-26 11:48:34.146          f                 NaN                24.0   \n",
       "4  2015-08-26 11:48:34.146          f                 NaN                24.0   \n",
       "\n",
       "   situacao_turma convenio modalidade_participantes Unnamed: 25 ano_periodo  \n",
       "0     CONSOLIDADA      NaN               Presencial         NaN       20151  \n",
       "1     CONSOLIDADA      NaN               Presencial         NaN       20151  \n",
       "2     CONSOLIDADA      NaN               Presencial         NaN       20151  \n",
       "3     CONSOLIDADA      NaN               Presencial         NaN       20151  \n",
       "4     CONSOLIDADA      NaN               Presencial         NaN       20151  \n",
       "\n",
       "[5 rows x 27 columns]"
      ]
     },
     "execution_count": 195,
     "metadata": {},
     "output_type": "execute_result"
    }
   ],
   "source": [
    "turmas.head()"
   ]
  },
  {
   "cell_type": "code",
   "execution_count": 196,
   "metadata": {},
   "outputs": [],
   "source": [
    "columns_sel = ['id_turma', 'id_componente_curricular', 'id_docente_interno',\n",
    "       'ano_periodo', 'situacao_turma']\n",
    "turmas = turmas[columns_sel]"
   ]
  },
  {
   "cell_type": "code",
   "execution_count": 197,
   "metadata": {},
   "outputs": [
    {
     "data": {
      "text/plain": [
       "array([20151])"
      ]
     },
     "execution_count": 197,
     "metadata": {},
     "output_type": "execute_result"
    }
   ],
   "source": [
    "turmas.ano_periodo.unique()"
   ]
  },
  {
   "cell_type": "code",
   "execution_count": 198,
   "metadata": {},
   "outputs": [],
   "source": [
    "id_turmas_cet = alunos_cet.id_turma.unique()"
   ]
  },
  {
   "cell_type": "code",
   "execution_count": 199,
   "metadata": {},
   "outputs": [
    {
     "data": {
      "text/plain": [
       "(14662, 5)"
      ]
     },
     "execution_count": 199,
     "metadata": {},
     "output_type": "execute_result"
    }
   ],
   "source": [
    "turmas.shape"
   ]
  },
  {
   "cell_type": "code",
   "execution_count": 200,
   "metadata": {},
   "outputs": [],
   "source": [
    "turmas_cet = turmas[turmas.id_turma.isin(id_turmas_cet)]"
   ]
  },
  {
   "cell_type": "code",
   "execution_count": 201,
   "metadata": {},
   "outputs": [
    {
     "data": {
      "text/plain": [
       "(1017, 5)"
      ]
     },
     "execution_count": 201,
     "metadata": {},
     "output_type": "execute_result"
    }
   ],
   "source": [
    "turmas_cet.shape"
   ]
  },
  {
   "cell_type": "code",
   "execution_count": 202,
   "metadata": {},
   "outputs": [],
   "source": [
    "# turmas_cet[turmas_cet.codigo.str.startswith(\"ECT\")].codigo.unique()"
   ]
  },
  {
   "cell_type": "markdown",
   "metadata": {},
   "source": [
    "### Relacionando com os componentes curriculares"
   ]
  },
  {
   "cell_type": "code",
   "execution_count": 203,
   "metadata": {},
   "outputs": [],
   "source": [
    "comp_curriculares = pd.read_csv(\"data/componentes-curriculares-presenciais-ok.csv\", sep=\",\")"
   ]
  },
  {
   "cell_type": "code",
   "execution_count": 204,
   "metadata": {},
   "outputs": [],
   "source": [
    "cc_ect = comp_curriculares[comp_curriculares.unidade_responsavel == 'ESCOLA DE CIÊNCIAS E TECNOLOGIA']"
   ]
  },
  {
   "cell_type": "code",
   "execution_count": 205,
   "metadata": {},
   "outputs": [],
   "source": [
    "disciplinas_desejadas_nome = ['PRE-CÁLCULO', 'VETORES E GEOMETRIA ANALÍTICA', 'CÁLCULO I', 'CÁLCULO II']\n",
    "\n",
    "disciplinas_desejadas_codigo = ['ECT2101', 'ECT2102', 'ECT2103', 'ECT2201']\n",
    "\n",
    "id_componentes_desejados = ['57586', '2050800',          # pré-cálculo\n",
    "                            '48582', '57587', '2050801', # cálculo 1\n",
    "                            '48584', '57588', '2051052'] # cálculo 2\n",
    "                            #'2051005'] # VGA"
   ]
  },
  {
   "cell_type": "code",
   "execution_count": 206,
   "metadata": {},
   "outputs": [],
   "source": [
    "#cc_ect[cc_ect.nome.str.startswith(\"VET\")]"
   ]
  },
  {
   "cell_type": "code",
   "execution_count": 207,
   "metadata": {},
   "outputs": [
    {
     "data": {
      "text/html": [
       "<div>\n",
       "<style scoped>\n",
       "    .dataframe tbody tr th:only-of-type {\n",
       "        vertical-align: middle;\n",
       "    }\n",
       "\n",
       "    .dataframe tbody tr th {\n",
       "        vertical-align: top;\n",
       "    }\n",
       "\n",
       "    .dataframe thead th {\n",
       "        text-align: right;\n",
       "    }\n",
       "</style>\n",
       "<table border=\"1\" class=\"dataframe\">\n",
       "  <thead>\n",
       "    <tr style=\"text-align: right;\">\n",
       "      <th></th>\n",
       "      <th>Unnamed: 0</th>\n",
       "      <th>id_componente</th>\n",
       "      <th>tipo_componente</th>\n",
       "      <th>codigo</th>\n",
       "      <th>nivel</th>\n",
       "      <th>nome</th>\n",
       "      <th>unidade_responsavel</th>\n",
       "      <th>ch_teorico</th>\n",
       "      <th>ch_pratico</th>\n",
       "      <th>ch_estagio</th>\n",
       "      <th>...</th>\n",
       "      <th>ementa</th>\n",
       "      <th>bibliografia</th>\n",
       "      <th>objetivos</th>\n",
       "      <th>conteudo</th>\n",
       "      <th>competencias_habilidades</th>\n",
       "      <th>referencias</th>\n",
       "      <th>ano_programa</th>\n",
       "      <th>periodo_programa</th>\n",
       "      <th>modalidade</th>\n",
       "      <th>curso_componente</th>\n",
       "    </tr>\n",
       "  </thead>\n",
       "  <tbody>\n",
       "    <tr>\n",
       "      <th>22803</th>\n",
       "      <td>22803</td>\n",
       "      <td>57586</td>\n",
       "      <td>MÓDULO</td>\n",
       "      <td>ECT2101</td>\n",
       "      <td>G</td>\n",
       "      <td>PRÉ-CÁLCULO</td>\n",
       "      <td>ESCOLA DE CIÊNCIAS E TECNOLOGIA</td>\n",
       "      <td>60</td>\n",
       "      <td>0</td>\n",
       "      <td>0</td>\n",
       "      <td>...</td>\n",
       "      <td>Números reais. Operações aritméticas. Números ...</td>\n",
       "      <td>NaN</td>\n",
       "      <td>&amp;#8722; Revisar e proporcionar maior compreens...</td>\n",
       "      <td>1. Números reais1.1 Representação fracionária ...</td>\n",
       "      <td>Desenvolver no aluno a habilidade de entender ...</td>\n",
       "      <td>NaN</td>\n",
       "      <td>2014.0</td>\n",
       "      <td>2.0</td>\n",
       "      <td>Presencial</td>\n",
       "      <td>CIÊNCIAS E TECNOLOGIA</td>\n",
       "    </tr>\n",
       "    <tr>\n",
       "      <th>22804</th>\n",
       "      <td>22804</td>\n",
       "      <td>57587</td>\n",
       "      <td>MÓDULO</td>\n",
       "      <td>ECT2103</td>\n",
       "      <td>G</td>\n",
       "      <td>CÁLCULO I</td>\n",
       "      <td>ESCOLA DE CIÊNCIAS E TECNOLOGIA</td>\n",
       "      <td>60</td>\n",
       "      <td>0</td>\n",
       "      <td>0</td>\n",
       "      <td>...</td>\n",
       "      <td>Limites e continuidade. Derivada. Aplicações d...</td>\n",
       "      <td>NaN</td>\n",
       "      <td>- Introduzir e capacitar o aluno a entender e ...</td>\n",
       "      <td>1. Limites1.1 Definição. Limites laterais.1.2 ...</td>\n",
       "      <td>Capacitar o aluno a entender e utilizar adequa...</td>\n",
       "      <td>NaN</td>\n",
       "      <td>2016.0</td>\n",
       "      <td>2.0</td>\n",
       "      <td>Presencial</td>\n",
       "      <td>CIÊNCIAS E TECNOLOGIA</td>\n",
       "    </tr>\n",
       "    <tr>\n",
       "      <th>22805</th>\n",
       "      <td>22805</td>\n",
       "      <td>57588</td>\n",
       "      <td>MÓDULO</td>\n",
       "      <td>ECT2201</td>\n",
       "      <td>G</td>\n",
       "      <td>CÁLCULO II</td>\n",
       "      <td>ESCOLA DE CIÊNCIAS E TECNOLOGIA</td>\n",
       "      <td>60</td>\n",
       "      <td>0</td>\n",
       "      <td>0</td>\n",
       "      <td>...</td>\n",
       "      <td>Integral definida. Aplicações da integral. Fun...</td>\n",
       "      <td>NaN</td>\n",
       "      <td>- Introduzir o conceito de integral definida b...</td>\n",
       "      <td>1. Integral Definida1.1 Definição e interpreta...</td>\n",
       "      <td>Possibilitar que o aluno tenha domínio dos con...</td>\n",
       "      <td>NaN</td>\n",
       "      <td>2014.0</td>\n",
       "      <td>2.0</td>\n",
       "      <td>Presencial</td>\n",
       "      <td>CIÊNCIAS E TECNOLOGIA</td>\n",
       "    </tr>\n",
       "    <tr>\n",
       "      <th>34962</th>\n",
       "      <td>34962</td>\n",
       "      <td>2051005</td>\n",
       "      <td>MÓDULO</td>\n",
       "      <td>ECT2102</td>\n",
       "      <td>G</td>\n",
       "      <td>VETORES E GEOMETRIA ANALÍTICA</td>\n",
       "      <td>ESCOLA DE CIÊNCIAS E TECNOLOGIA</td>\n",
       "      <td>60</td>\n",
       "      <td>0</td>\n",
       "      <td>0</td>\n",
       "      <td>...</td>\n",
       "      <td>Matrizes e Determinantes. Sistemas Lineares. V...</td>\n",
       "      <td>NaN</td>\n",
       "      <td>&amp;#8722; Apresentar métodos de resolução de sis...</td>\n",
       "      <td>1. Matrizes e Sistemas Lineares1.1 Matrizes1.1...</td>\n",
       "      <td>Desenvolver no aluno a habilidade de identific...</td>\n",
       "      <td>NaN</td>\n",
       "      <td>2014.0</td>\n",
       "      <td>2.0</td>\n",
       "      <td>Presencial</td>\n",
       "      <td>CIÊNCIAS E TECNOLOGIA</td>\n",
       "    </tr>\n",
       "  </tbody>\n",
       "</table>\n",
       "<p>4 rows × 30 columns</p>\n",
       "</div>"
      ],
      "text/plain": [
       "       Unnamed: 0  id_componente tipo_componente   codigo nivel  \\\n",
       "22803       22803          57586          MÓDULO  ECT2101     G   \n",
       "22804       22804          57587          MÓDULO  ECT2103     G   \n",
       "22805       22805          57588          MÓDULO  ECT2201     G   \n",
       "34962       34962        2051005          MÓDULO  ECT2102     G   \n",
       "\n",
       "                                nome              unidade_responsavel  \\\n",
       "22803                    PRÉ-CÁLCULO  ESCOLA DE CIÊNCIAS E TECNOLOGIA   \n",
       "22804                      CÁLCULO I  ESCOLA DE CIÊNCIAS E TECNOLOGIA   \n",
       "22805                     CÁLCULO II  ESCOLA DE CIÊNCIAS E TECNOLOGIA   \n",
       "34962  VETORES E GEOMETRIA ANALÍTICA  ESCOLA DE CIÊNCIAS E TECNOLOGIA   \n",
       "\n",
       "       ch_teorico  ch_pratico  ch_estagio  ...  \\\n",
       "22803          60           0           0  ...   \n",
       "22804          60           0           0  ...   \n",
       "22805          60           0           0  ...   \n",
       "34962          60           0           0  ...   \n",
       "\n",
       "                                                  ementa  bibliografia  \\\n",
       "22803  Números reais. Operações aritméticas. Números ...           NaN   \n",
       "22804  Limites e continuidade. Derivada. Aplicações d...           NaN   \n",
       "22805  Integral definida. Aplicações da integral. Fun...           NaN   \n",
       "34962  Matrizes e Determinantes. Sistemas Lineares. V...           NaN   \n",
       "\n",
       "                                               objetivos  \\\n",
       "22803  &#8722; Revisar e proporcionar maior compreens...   \n",
       "22804  - Introduzir e capacitar o aluno a entender e ...   \n",
       "22805  - Introduzir o conceito de integral definida b...   \n",
       "34962  &#8722; Apresentar métodos de resolução de sis...   \n",
       "\n",
       "                                                conteudo  \\\n",
       "22803  1. Números reais1.1 Representação fracionária ...   \n",
       "22804  1. Limites1.1 Definição. Limites laterais.1.2 ...   \n",
       "22805  1. Integral Definida1.1 Definição e interpreta...   \n",
       "34962  1. Matrizes e Sistemas Lineares1.1 Matrizes1.1...   \n",
       "\n",
       "                                competencias_habilidades  referencias  \\\n",
       "22803  Desenvolver no aluno a habilidade de entender ...          NaN   \n",
       "22804  Capacitar o aluno a entender e utilizar adequa...          NaN   \n",
       "22805  Possibilitar que o aluno tenha domínio dos con...          NaN   \n",
       "34962  Desenvolver no aluno a habilidade de identific...          NaN   \n",
       "\n",
       "      ano_programa periodo_programa  modalidade       curso_componente  \n",
       "22803       2014.0              2.0  Presencial  CIÊNCIAS E TECNOLOGIA  \n",
       "22804       2016.0              2.0  Presencial  CIÊNCIAS E TECNOLOGIA  \n",
       "22805       2014.0              2.0  Presencial  CIÊNCIAS E TECNOLOGIA  \n",
       "34962       2014.0              2.0  Presencial  CIÊNCIAS E TECNOLOGIA  \n",
       "\n",
       "[4 rows x 30 columns]"
      ]
     },
     "execution_count": 207,
     "metadata": {},
     "output_type": "execute_result"
    }
   ],
   "source": [
    "cc_ect[cc_ect.codigo.isin(disciplinas_desejadas_codigo)]"
   ]
  },
  {
   "cell_type": "code",
   "execution_count": 208,
   "metadata": {},
   "outputs": [],
   "source": [
    "turmas_cet = turmas_cet[turmas_cet.id_componente_curricular.isin(id_componentes_desejados)]"
   ]
  },
  {
   "cell_type": "code",
   "execution_count": 209,
   "metadata": {},
   "outputs": [
    {
     "data": {
      "text/plain": [
       "(22, 5)"
      ]
     },
     "execution_count": 209,
     "metadata": {},
     "output_type": "execute_result"
    }
   ],
   "source": [
    "turmas_cet.shape"
   ]
  },
  {
   "cell_type": "code",
   "execution_count": 210,
   "metadata": {},
   "outputs": [
    {
     "data": {
      "text/plain": [
       "CONSOLIDADA    22\n",
       "Name: situacao_turma, dtype: int64"
      ]
     },
     "execution_count": 210,
     "metadata": {},
     "output_type": "execute_result"
    }
   ],
   "source": [
    "turmas_cet.situacao_turma.value_counts()"
   ]
  },
  {
   "cell_type": "code",
   "execution_count": 211,
   "metadata": {},
   "outputs": [
    {
     "data": {
      "text/plain": [
       "57587    8\n",
       "57586    7\n",
       "57588    6\n",
       "48584    1\n",
       "Name: id_componente_curricular, dtype: int64"
      ]
     },
     "execution_count": 211,
     "metadata": {},
     "output_type": "execute_result"
    }
   ],
   "source": [
    "turmas_cet.id_componente_curricular.value_counts()"
   ]
  },
  {
   "cell_type": "markdown",
   "metadata": {},
   "source": [
    "### Pegando apenas as matriculas nas turmas que interessam\n",
    "Hora de filtrar apenas as matriculas nas turmas dos componentes curriculares que utilizaremos."
   ]
  },
  {
   "cell_type": "code",
   "execution_count": 212,
   "metadata": {},
   "outputs": [],
   "source": [
    "turmas_ect_selecionadas = turmas_cet.id_turma.unique()"
   ]
  },
  {
   "cell_type": "code",
   "execution_count": 213,
   "metadata": {},
   "outputs": [],
   "source": [
    "matriculas_selecionadas =  matriculas[matriculas.id_turma.isin(turmas_ect_selecionadas)]"
   ]
  },
  {
   "cell_type": "code",
   "execution_count": 214,
   "metadata": {},
   "outputs": [
    {
     "data": {
      "text/plain": [
       "Index(['id_turma', 'discente', 'id_curso', 'unidade', 'nota', 'reposicao',\n",
       "       'faltas_unidade', 'media_final', 'numero_total_faltas', 'descricao',\n",
       "       'Unnamed: 10'],\n",
       "      dtype='object')"
      ]
     },
     "execution_count": 214,
     "metadata": {},
     "output_type": "execute_result"
    }
   ],
   "source": [
    "matriculas_selecionadas.columns"
   ]
  },
  {
   "cell_type": "markdown",
   "metadata": {},
   "source": [
    "Removendo os status indesejados"
   ]
  },
  {
   "cell_type": "code",
   "execution_count": 215,
   "metadata": {},
   "outputs": [
    {
     "data": {
      "text/plain": [
       "REPROVADO                           2382\n",
       "EXCLUIDA                            1813\n",
       "APROVADO POR NOTA                   1296\n",
       "CANCELADO                           1186\n",
       "REPROVADO POR MÉDIA E POR FALTAS     831\n",
       "APROVADO                             735\n",
       "INDEFERIDO                           534\n",
       "TRANCADO                             310\n",
       "DESISTENCIA                           55\n",
       "REPROVADO POR NOTA                     3\n",
       "Name: descricao, dtype: int64"
      ]
     },
     "execution_count": 215,
     "metadata": {},
     "output_type": "execute_result"
    }
   ],
   "source": [
    "matriculas_selecionadas.descricao.value_counts()"
   ]
  },
  {
   "cell_type": "code",
   "execution_count": 216,
   "metadata": {},
   "outputs": [],
   "source": [
    "status_indesejados = ['INDEFERIDO', 'EXCLUIDA', 'TRANCADO', 'DESISTENCIA', 'CANCELADO']"
   ]
  },
  {
   "cell_type": "code",
   "execution_count": 217,
   "metadata": {},
   "outputs": [],
   "source": [
    "matriculas_selecionadas = matriculas_selecionadas[~matriculas_selecionadas.descricao.isin(status_indesejados)]"
   ]
  },
  {
   "cell_type": "markdown",
   "metadata": {},
   "source": [
    "## Salvando os datasets"
   ]
  },
  {
   "cell_type": "code",
   "execution_count": 218,
   "metadata": {},
   "outputs": [
    {
     "data": {
      "text/plain": [
       "(5247, 11)"
      ]
     },
     "execution_count": 218,
     "metadata": {},
     "output_type": "execute_result"
    }
   ],
   "source": [
    "matriculas_selecionadas.shape"
   ]
  },
  {
   "cell_type": "code",
   "execution_count": 219,
   "metadata": {},
   "outputs": [],
   "source": [
    "matriculas_selecionadas.to_csv(f\"data/matriculas_pos_limpeza_{ano_periodo}.csv\", sep=\";\", index=False)"
   ]
  },
  {
   "cell_type": "code",
   "execution_count": 220,
   "metadata": {},
   "outputs": [],
   "source": [
    "turmas_cet.to_csv(f\"data/turmas_pos_limpeza_{ano_periodo}.csv\", sep=\";\", index=False)"
   ]
  },
  {
   "cell_type": "code",
   "execution_count": null,
   "metadata": {},
   "outputs": [],
   "source": []
  }
 ],
 "metadata": {
  "kernelspec": {
   "display_name": "Python 3",
   "language": "python",
   "name": "python3"
  },
  "language_info": {
   "codemirror_mode": {
    "name": "ipython",
    "version": 3
   },
   "file_extension": ".py",
   "mimetype": "text/x-python",
   "name": "python",
   "nbconvert_exporter": "python",
   "pygments_lexer": "ipython3",
   "version": "3.6.8"
  }
 },
 "nbformat": 4,
 "nbformat_minor": 2
}
